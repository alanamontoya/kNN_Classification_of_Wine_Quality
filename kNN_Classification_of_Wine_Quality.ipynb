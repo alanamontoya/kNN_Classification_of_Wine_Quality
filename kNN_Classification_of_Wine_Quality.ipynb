{
 "cells": [
  {
   "cell_type": "markdown",
   "id": "eaf995fe",
   "metadata": {},
   "source": [
    "_Import the `pandas`, `numpy`, `train_test_split`, `accuracy_score`, `KNeighborsClassifier`, and `pyplot`._"
   ]
  },
  {
   "cell_type": "code",
   "execution_count": 1,
   "id": "fdb909c5",
   "metadata": {},
   "outputs": [],
   "source": [
    "import pandas as pd\n",
    "import numpy as np\n",
    "from sklearn.model_selection import train_test_split\n",
    "from sklearn.metrics import accuracy_score\n",
    "from sklearn.neighbors import KNeighborsClassifier\n",
    "import matplotlib.pyplot as plt"
   ]
  },
  {
   "cell_type": "markdown",
   "id": "8d84ba13",
   "metadata": {},
   "source": [
    "## Problem:\n",
    "\n",
    "Download the `wine` dataset. It contains information about a number of wines -- their characteristics (features) and if it's considered high quality or not (1 or 0). First, do some experiments (trial-and-error) to figure out a good subset of features to use for learning wine quality (last column). Report these features.\n",
    "\n",
    "Then, use 70% data for training to build a kNN classifier with different values of k ranging from 2 to 10. Plot your accuracies with each of these. In other words, your final result will be a line chart with k on the x-axis and accuracy on the y-axis."
   ]
  },
  {
   "cell_type": "markdown",
   "id": "0f39244b",
   "metadata": {},
   "source": [
    "_First we need to load in the `wine` dataset:_"
   ]
  },
  {
   "cell_type": "code",
   "execution_count": 23,
   "id": "6a2752d5",
   "metadata": {},
   "outputs": [],
   "source": [
    "df_wine = pd.read_csv('wine.csv')"
   ]
  },
  {
   "cell_type": "markdown",
   "id": "9cbbb646",
   "metadata": {},
   "source": [
    "_Prior to building our models, we can change `color` (indicating whether a wine was `red` or `white`) from a string categorical type to a number categorical type. We can assign them as follows:_\n",
    "\n",
    "> _white : 0_\n",
    "\n",
    "> _red : 1_"
   ]
  },
  {
   "cell_type": "code",
   "execution_count": 24,
   "id": "31c7a798",
   "metadata": {},
   "outputs": [],
   "source": [
    "df_wine[\"color\"] = np.where(df_wine[\"color\"] ==  \"red\", 1, 0)"
   ]
  },
  {
   "cell_type": "markdown",
   "id": "74e78493",
   "metadata": {},
   "source": [
    "_To figure out a good subset of features to use for learning whether a wine is of high quality, I created simple logistic models for each of the attributes and measured their average accuracy. They all had an average accuracy of predicting `high_quality` of about 0.8 but with `quality` having an average accuracy of 1.0. The `quality` feature producing a perfect accuracy makes sense since `high_quality` is determined by applying a threshold to `quality`. So while a simple logictic model with simply `quality` being used as the only feature would produce perfect accuracy, it is trivial and not very insightful. Hence, we can instead choose a subset of features that do not include `quality`, such as `fixed_acidity`, `volatile_acidity`, and `citric_acid`._\n",
    "\n",
    "_So, we can assign these three as the features to use in our model and `high_quality` as the label._"
   ]
  },
  {
   "cell_type": "code",
   "execution_count": 25,
   "id": "cfe4c074",
   "metadata": {},
   "outputs": [],
   "source": [
    "features4 = df_wine.drop(\"high_quality\", axis = 1).drop(\"residual_sugar\", axis = 1).drop(\"chlorides\", axis = 1).drop(\"free_sulfur_dioxide\", axis = 1).drop(\"total_sulfur_dioxide\", axis = 1).drop(\"density\", axis = 1).drop(\"pH\", axis = 1).drop(\"sulphates\", axis = 1).drop(\"alcohol\", axis = 1).drop(\"quality\", axis = 1).drop(\"color\", axis = 1).drop(\"is_red\", axis = 1)\n",
    "label2 = df_wine[\"high_quality\"]"
   ]
  },
  {
   "cell_type": "markdown",
   "id": "8a7da36e",
   "metadata": {},
   "source": [
    "_Next we can split the data into 70% training and 30% testing. Note that `X` represents the features and `y` represents the label._"
   ]
  },
  {
   "cell_type": "code",
   "execution_count": 26,
   "id": "1678579a",
   "metadata": {},
   "outputs": [],
   "source": [
    "X_train4, X_test4, y_train4, y_test4 = train_test_split(features4, label2, test_size = 0.30)"
   ]
  },
  {
   "cell_type": "markdown",
   "id": "7d5fa1d9",
   "metadata": {},
   "source": [
    "_Now we can build a kNN classifier with different values of `k` ranging from 2 to 10 and later graph the accuracies for each value of `k`. So, first we should create a list to keep track of the values of `k` and another list to track the accuracies at each value of `k`._"
   ]
  },
  {
   "cell_type": "code",
   "execution_count": 27,
   "id": "4a1dde09",
   "metadata": {},
   "outputs": [],
   "source": [
    "k_val = list(range(2,11))\n",
    "accuracies = list(range(2,11))"
   ]
  },
  {
   "cell_type": "markdown",
   "id": "ab94698b",
   "metadata": {},
   "source": [
    "> _Note: __[this](https://stackoverflow.com/questions/10712002/create-an-empty-list-in-python-with-certain-size)__ source was used to understand the `range()` function._"
   ]
  },
  {
   "cell_type": "markdown",
   "id": "634cbea6",
   "metadata": {},
   "source": [
    "Then we can run through each value of `k` from 2 to 10 and track the accuracies for each of these k-values."
   ]
  },
  {
   "cell_type": "code",
   "execution_count": 28,
   "id": "39429bd5",
   "metadata": {},
   "outputs": [],
   "source": [
    "i = 0\n",
    "for k in range(2,11):\n",
    "    k_val[i] = k\n",
    "    knn = KNeighborsClassifier(n_neighbors = k)\n",
    "    knn.fit(X_train4, y_train4)\n",
    "    pred_knn = knn.predict(X_test4)\n",
    "    accuracies[i] = accuracy_score(y_test4, pred_knn)\n",
    "    i = i + 1"
   ]
  },
  {
   "cell_type": "markdown",
   "id": "6b232430",
   "metadata": {},
   "source": [
    "_Next we can combine these values of `k` and their corresponding accuracies into a dataframe that can be used to visually plot the results._"
   ]
  },
  {
   "cell_type": "code",
   "execution_count": 29,
   "id": "55b75f69",
   "metadata": {},
   "outputs": [
    {
     "data": {
      "text/html": [
       "<div>\n",
       "<style scoped>\n",
       "    .dataframe tbody tr th:only-of-type {\n",
       "        vertical-align: middle;\n",
       "    }\n",
       "\n",
       "    .dataframe tbody tr th {\n",
       "        vertical-align: top;\n",
       "    }\n",
       "\n",
       "    .dataframe thead th {\n",
       "        text-align: right;\n",
       "    }\n",
       "</style>\n",
       "<table border=\"1\" class=\"dataframe\">\n",
       "  <thead>\n",
       "    <tr style=\"text-align: right;\">\n",
       "      <th></th>\n",
       "      <th>k_val</th>\n",
       "      <th>accuracies</th>\n",
       "    </tr>\n",
       "  </thead>\n",
       "  <tbody>\n",
       "    <tr>\n",
       "      <th>0</th>\n",
       "      <td>2</td>\n",
       "      <td>0.807692</td>\n",
       "    </tr>\n",
       "    <tr>\n",
       "      <th>1</th>\n",
       "      <td>3</td>\n",
       "      <td>0.772821</td>\n",
       "    </tr>\n",
       "    <tr>\n",
       "      <th>2</th>\n",
       "      <td>4</td>\n",
       "      <td>0.790256</td>\n",
       "    </tr>\n",
       "    <tr>\n",
       "      <th>3</th>\n",
       "      <td>5</td>\n",
       "      <td>0.782051</td>\n",
       "    </tr>\n",
       "    <tr>\n",
       "      <th>4</th>\n",
       "      <td>6</td>\n",
       "      <td>0.804615</td>\n",
       "    </tr>\n",
       "    <tr>\n",
       "      <th>5</th>\n",
       "      <td>7</td>\n",
       "      <td>0.789231</td>\n",
       "    </tr>\n",
       "    <tr>\n",
       "      <th>6</th>\n",
       "      <td>8</td>\n",
       "      <td>0.809744</td>\n",
       "    </tr>\n",
       "    <tr>\n",
       "      <th>7</th>\n",
       "      <td>9</td>\n",
       "      <td>0.801026</td>\n",
       "    </tr>\n",
       "    <tr>\n",
       "      <th>8</th>\n",
       "      <td>10</td>\n",
       "      <td>0.808718</td>\n",
       "    </tr>\n",
       "  </tbody>\n",
       "</table>\n",
       "</div>"
      ],
      "text/plain": [
       "   k_val  accuracies\n",
       "0      2    0.807692\n",
       "1      3    0.772821\n",
       "2      4    0.790256\n",
       "3      5    0.782051\n",
       "4      6    0.804615\n",
       "5      7    0.789231\n",
       "6      8    0.809744\n",
       "7      9    0.801026\n",
       "8     10    0.808718"
      ]
     },
     "execution_count": 29,
     "metadata": {},
     "output_type": "execute_result"
    }
   ],
   "source": [
    "data = {'k_val' : k_val, 'accuracies' : accuracies}\n",
    "df_accuracies = pd.DataFrame(data)\n",
    "df_accuracies"
   ]
  },
  {
   "cell_type": "markdown",
   "id": "d0e6de12",
   "metadata": {},
   "source": [
    "_Now we can plot this dataframe to see how the accuracy of our kNN classifier model varies as `k` ranges from 2 to 10._"
   ]
  },
  {
   "cell_type": "code",
   "execution_count": 30,
   "id": "946ead1f",
   "metadata": {},
   "outputs": [
    {
     "data": {
      "text/plain": [
       "Text(0.5, 1.0, 'kNN Classifier Model Accuracies')"
      ]
     },
     "execution_count": 30,
     "metadata": {},
     "output_type": "execute_result"
    },
    {
     "data": {
      "image/png": "[encoded data removed]",
      "text/plain": [
       "<Figure size 432x288 with 1 Axes>"
      ]
     },
     "metadata": {
      "needs_background": "light"
     },
     "output_type": "display_data"
    }
   ],
   "source": [
    "df_accuracies.plot(x = \"k_val\", y = \"accuracies\", kind = \"line\")\n",
    "plt.ylim([0, 1])\n",
    "plt.xlabel(\"k Value\")\n",
    "plt.ylabel(\"Accuracy\")\n",
    "plt.title(\"kNN Classifier Model Accuracies\")"
   ]
  },
  {
   "cell_type": "markdown",
   "id": "a276a832",
   "metadata": {},
   "source": [
    "> _Note: __[this](https://stackabuse.com/how-to-set-axis-range-xlim-ylim-in-matplotlib/)__ source was used to determine how to change the axis boundaries._"
   ]
  }
 ],
 "metadata": {
  "kernelspec": {
   "display_name": "Python 3 (ipykernel)",
   "language": "python",
   "name": "python3"
  },
  "language_info": {
   "codemirror_mode": {
    "name": "ipython",
    "version": 3
   },
   "file_extension": ".py",
   "mimetype": "text/x-python",
   "name": "python",
   "nbconvert_exporter": "python",
   "pygments_lexer": "ipython3",
   "version": "3.9.7"
  }
 },
 "nbformat": 4,
 "nbformat_minor": 5
}
